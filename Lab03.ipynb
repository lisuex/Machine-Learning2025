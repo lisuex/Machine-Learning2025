{
  "nbformat": 4,
  "nbformat_minor": 0,
  "metadata": {
    "colab": {
      "provenance": []
    },
    "kernelspec": {
      "name": "python3",
      "display_name": "Python 3"
    },
    "language_info": {
      "name": "python"
    }
  },
  "cells": [
    {
      "cell_type": "markdown",
      "source": [
        "[![Open In Colab](https://colab.research.google.com/assets/colab-badge.svg)](https://colab.research.google.com/github/lisuex/Machine-Learning2025/blob/main/Lab03.ipynb)"
      ],
      "metadata": {
        "id": "dvfmsoI5Go7i"
      }
    },
    {
      "cell_type": "code",
      "execution_count": 20,
      "metadata": {
        "id": "D40-_IJLwTW1"
      },
      "outputs": [],
      "source": [
        "from sklearn.model_selection import train_test_split\n",
        "from sklearn.datasets import load_breast_cancer\n",
        "\n",
        "# Load the data and divide them into train and test datasets\n",
        "data = load_breast_cancer()\n",
        "X = data.data\n",
        "y = data.target\n",
        "\n",
        "X_train, X_temp, y_train, y_temp = train_test_split(X, y, test_size=0.4, random_state=42)\n",
        "X_val, X_test, y_val, y_test = train_test_split(X_temp, y_temp, test_size=0.5, random_state=42)"
      ]
    },
    {
      "cell_type": "code",
      "source": [
        "from sklearn.linear_model import LogisticRegression\n",
        "\n",
        "# Create Logistic Regression model and train it on the chosen data\n",
        "model = LogisticRegression()\n",
        "model.fit(X_train, y_train)\n",
        "\n",
        "y_val_probs = model.predict_proba(X_val)[:, 1]\n",
        "y_test_probs = model.predict_proba(X_test)[:, 1]"
      ],
      "metadata": {
        "colab": {
          "base_uri": "https://localhost:8080/"
        },
        "id": "1vNp0TEgwxHR",
        "outputId": "63d3349f-9de9-4dc0-ef06-e8574b804959"
      },
      "execution_count": 21,
      "outputs": [
        {
          "output_type": "stream",
          "name": "stderr",
          "text": [
            "/usr/local/lib/python3.11/dist-packages/sklearn/linear_model/_logistic.py:465: ConvergenceWarning: lbfgs failed to converge (status=1):\n",
            "STOP: TOTAL NO. of ITERATIONS REACHED LIMIT.\n",
            "\n",
            "Increase the number of iterations (max_iter) or scale the data as shown in:\n",
            "    https://scikit-learn.org/stable/modules/preprocessing.html\n",
            "Please also refer to the documentation for alternative solver options:\n",
            "    https://scikit-learn.org/stable/modules/linear_model.html#logistic-regression\n",
            "  n_iter_i = _check_optimize_result(\n"
          ]
        }
      ]
    },
    {
      "cell_type": "code",
      "source": [
        "from sklearn.metrics import roc_curve, auc\n",
        "import matplotlib.pyplot as plt\n",
        "\n",
        "# Plot the ROC curve which is curve showing the ratio between TPR(True Positive Rate) and FPR(False Positive Rate) for different thresholds\n",
        "fpr, tpr, thresholds = roc_curve(y_val, y_val_probs)\n",
        "# Calculate the AUC which is the area under the ROC curve. The closer it gets to 1, the better the model is\n",
        "auc = auc(fpr, tpr)\n",
        "\n",
        "plt.plot(fpr, tpr, label=f\"AUC = {auc:.4f}\")\n",
        "plt.xlabel(\"False Positive Rate\")\n",
        "plt.ylabel(\"True Positive Rate\")\n",
        "plt.title(\"ROC Curve\")\n",
        "plt.legend()\n",
        "plt.show()"
      ],
      "metadata": {
        "id": "hdMRzOASwyrM",
        "outputId": "cd2e9762-ed42-4dda-967d-01c4ff9de780",
        "colab": {
          "base_uri": "https://localhost:8080/",
          "height": 472
        }
      },
      "execution_count": 22,
      "outputs": [
        {
          "output_type": "display_data",
          "data": {
            "text/plain": [
              "<Figure size 640x480 with 1 Axes>"
            ],
            "image/png": "[encoded data removed]"
          },
          "metadata": {}
        }
      ]
    },
    {
      "cell_type": "code",
      "source": [
        "# Calculate Youden's J statistic which looks for the best threshold.\n",
        "# \"The best\" in that case means the biggest difference between TPR and FPR, because we want TPR to be the biggest and FPR to be the smallest\n",
        "# In perfect scenario TPR=1 and FPR=0 (each classification is perfect)\n",
        "J = tpr - fpr\n",
        "optimal_idx = J.argmax()\n",
        "optimal_threshold = thresholds[optimal_idx]\n",
        "sensitivity = tpr[optimal_idx]\n",
        "specificity  = fpr[optimal_idx]\n",
        "\n",
        "print(f\"Optimal Threshold: {optimal_threshold:.2f}\")"
      ],
      "metadata": {
        "id": "JlnG3c9yw0M8",
        "outputId": "35cca0bb-18bd-49b6-ab4a-6ab030f7890e",
        "colab": {
          "base_uri": "https://localhost:8080/"
        }
      },
      "execution_count": 23,
      "outputs": [
        {
          "output_type": "stream",
          "name": "stdout",
          "text": [
            "Optimal Threshold: 0.85\n"
          ]
        }
      ]
    },
    {
      "cell_type": "code",
      "source": [
        "from sklearn.metrics import accuracy_score, precision_score, recall_score, f1_score, confusion_matrix\n",
        "\n",
        "# Test the model on previously selected testing dataset\n",
        "y_test_probs = model.predict_proba(X_test)[:, 1]\n",
        "y_test_pred = (y_test_probs >= optimal_threshold).astype(int)\n",
        "\n",
        "# Calculate and show all the metrics that are mentioned in the task\n",
        "accuracy = accuracy_score(y_test, y_test_pred)\n",
        "precision = precision_score(y_test, y_test_pred)\n",
        "recall = recall_score(y_test, y_test_pred)\n",
        "f1 = f1_score(y_test, y_test_pred)\n",
        "conf_matrix = confusion_matrix(y_test, y_test_pred)\n",
        "\n",
        "print(f\"Accuracy: {accuracy:.2f}\")\n",
        "print(f\"Precision: {precision:.2f}\")\n",
        "print(f\"Recall: {recall:.2f}\")\n",
        "print(f\"F1-Score: {f1:.2f}\")\n",
        "print(f\"Sensitivity for chosen threshold = {sensitivity:.4f}\")\n",
        "print(f\"Specificity for chosen threshold = {specificity:.4f}\")\n",
        "print(\"Confusion Matrix:\")\n",
        "print(conf_matrix)"
      ],
      "metadata": {
        "colab": {
          "base_uri": "https://localhost:8080/"
        },
        "id": "NpL65TlDAE_k",
        "outputId": "3c584197-b4a9-484d-a189-29a9f4802fc1"
      },
      "execution_count": 24,
      "outputs": [
        {
          "output_type": "stream",
          "name": "stdout",
          "text": [
            "Accuracy: 0.92\n",
            "Precision: 1.00\n",
            "Recall: 0.88\n",
            "F1-Score: 0.94\n",
            "Sensitivity for chosen threshold = 0.9722\n",
            "Specificity for chosen threshold = 0.0000\n",
            "Confusion Matrix:\n",
            "[[38  0]\n",
            " [ 9 67]]\n"
          ]
        }
      ]
    },
    {
      "cell_type": "markdown",
      "source": [
        "**Is a 0.5 threshold always the best choice in Logistic Regression?**\n",
        "\n",
        "No, it depends on and problem and the data, as you can see in my example, threshold 0,85 was better in terms of Youden's J statistic\n",
        "\n",
        "**Would a different threshold yield better results?**\n",
        "\n",
        "trade-off between sensitivity and specificity is presented by the ROC curve\n",
        "which shows the specificity and sensitivity for different thresholds\n",
        "\n",
        "**How do you define \"better\" results**\n",
        "\n",
        "One way to define it is by Youden's J statistic which maximize\n",
        "the difference between sensitivity and specificity.\n",
        "But for different cases the \"better results\" can be defined differently.\n",
        "For example, in disease detection it is more import to detect *all* the\n",
        "\"sick\" cases and making \"mistakes\" in detecting sickness in wrong examples is really bad. On the other way, in spam filtering case, it is more important to not put some important email into spam then to leave some not important email in \"not spam\" section. These examples show that depending on the case, the conflict between sensitivity and specifity can be resolved in different ways.\n",
        "\n",
        "**How does a ROC curve help in this process**\n",
        "\n",
        "The ROC curve can help in visualing how the sensitivity and specifity changes for different threshold values, which can help in deciding which threshold is the best for certain case.\n",
        "\n",
        "**How do you select the optimal threshold using the ROC curve?**\n",
        "\n",
        "As I wrote before, the most common way of selecting the optimal threshold is to\n",
        "maximize the difference between TPR and FPR, but depending on the case, you can for example select best threshold that meets the conditions like: \" FPR < 0.3 and TPR > 0.8\", not always to maximize the difference.\n",
        "\n",
        "**What is the AUC metric and how is it useful?**\n",
        "\n",
        "AUC metric calculates the area under the ROC curve.\n",
        "It can help to evaluate the model. For example, if the model is perfect (there exist a threshold for which TPR=1 and FPR=0) then the AUC=1. If the model behaves randomly, the AUC=~0.5 as it is the value for \"perfectly random\" model.\n",
        "When AUC < 0.5, then the model is worse then a random model."
      ],
      "metadata": {
        "id": "3BoGsX_NDD4n"
      }
    }
  ]
}